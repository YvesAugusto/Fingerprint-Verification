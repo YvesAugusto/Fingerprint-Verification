{
  "nbformat": 4,
  "nbformat_minor": 0,
  "metadata": {
    "colab": {
      "name": "transferLearning.ipynb",
      "provenance": [],
      "collapsed_sections": [],
      "include_colab_link": true
    },
    "kernelspec": {
      "name": "python3",
      "display_name": "Python 3"
    },
    "accelerator": "GPU"
  },
  "cells": [
    {
      "cell_type": "markdown",
      "metadata": {
        "id": "view-in-github",
        "colab_type": "text"
      },
      "source": [
        "<a href=\"https://colab.research.google.com/github/YvesAugusto/Fingerprint-Verification/blob/master/transferLearning.ipynb\" target=\"_parent\"><img src=\"https://colab.research.google.com/assets/colab-badge.svg\" alt=\"Open In Colab\"/></a>"
      ]
    },
    {
      "cell_type": "code",
      "metadata": {
        "id": "1r_wLAzsAd1Q",
        "colab_type": "code",
        "colab": {
          "base_uri": "https://localhost:8080/",
          "height": 125
        },
        "outputId": "31b50f34-11d1-47a5-bf4b-d55f17465be4"
      },
      "source": [
        "from google.colab import drive\n",
        "drive.mount('/content/drive')"
      ],
      "execution_count": 2,
      "outputs": [
        {
          "output_type": "stream",
          "text": [
            "Go to this URL in a browser: https://accounts.google.com/o/oauth2/auth?client_id=947318989803-6bn6qk8qdgf4n4g3pfee6491hc0brc4i.apps.googleusercontent.com&redirect_uri=urn%3aietf%3awg%3aoauth%3a2.0%3aoob&response_type=code&scope=email%20https%3a%2f%2fwww.googleapis.com%2fauth%2fdocs.test%20https%3a%2f%2fwww.googleapis.com%2fauth%2fdrive%20https%3a%2f%2fwww.googleapis.com%2fauth%2fdrive.photos.readonly%20https%3a%2f%2fwww.googleapis.com%2fauth%2fpeopleapi.readonly\n",
            "\n",
            "Enter your authorization code:\n",
            "··········\n",
            "Mounted at /content/drive\n"
          ],
          "name": "stdout"
        }
      ]
    },
    {
      "cell_type": "code",
      "metadata": {
        "id": "ZFgrjCMcAfgA",
        "colab_type": "code",
        "colab": {
          "base_uri": "https://localhost:8080/",
          "height": 158
        },
        "outputId": "93233b53-7bd4-4db2-afde-bd72f594fdf0"
      },
      "source": [
        "import cv2 as cv\n",
        "import numpy as np\n",
        "def loadData(f):\n",
        "    trainx=[]\n",
        "    testx=[]\n",
        "    trainy=[]\n",
        "    testy=[]\n",
        "\n",
        "    for i in range(1, 17):\n",
        "        for j in range(1,int(f*49)):\n",
        "            v = np.zeros(16)\n",
        "            v[i - 1] = 1\n",
        "            trainx.append(cv.imread(\"drive/My Drive/database/\" + str(i)+\"_\"+str(j)+\".png\", cv.IMREAD_GRAYSCALE))\n",
        "            trainy.append(v)\n",
        "        for j in range(int(f*49), 49):\n",
        "            testx.append(cv.imread(\"drive/My Drive/database/\" + str(i)+\"_\"+str(j)+\".png\", cv.IMREAD_GRAYSCALE))\n",
        "            v=np.zeros(16)\n",
        "            v[i-1]=1\n",
        "            testy.append(v)\n",
        "            \n",
        "    trainx=np.array(trainx)\n",
        "    testx=np.array(testx)\n",
        "    trainy=np.array(trainy)\n",
        "    testy=np.array(testy)\n",
        "   \n",
        "    return trainx,testx,trainy,testy\n",
        "            \n",
        "trainx,testx,trainy,testy=loadData(0.8)\n",
        "print(trainx.shape, testx.shape, trainy.shape, testy.shape)\n",
        "print(trainx[1])"
      ],
      "execution_count": 3,
      "outputs": [
        {
          "output_type": "stream",
          "text": [
            "(608, 338, 248) (160, 338, 248) (608, 16) (160, 16)\n",
            "[[232 232 232 ... 232 232 232]\n",
            " [232 232 232 ... 232 232 232]\n",
            " [232 232 232 ... 232 232 232]\n",
            " ...\n",
            " [232 232 232 ... 232 232 232]\n",
            " [232 232 232 ... 232 232 232]\n",
            " [232 232 232 ... 232 232 232]]\n"
          ],
          "name": "stdout"
        }
      ]
    },
    {
      "cell_type": "code",
      "metadata": {
        "id": "IjauOLoYArtp",
        "colab_type": "code",
        "colab": {
          "base_uri": "https://localhost:8080/",
          "height": 52
        },
        "outputId": "18f5b942-3dc9-483f-bbdc-ef74ffb110da"
      },
      "source": [
        "train_x=[]\n",
        "test_x=[]\n",
        "for row in trainx:\n",
        "  row=np.float32(row)\n",
        "  v=cv.cvtColor(row,cv.COLOR_GRAY2RGB)\n",
        "  train_x.append(v)\n",
        "\n",
        "for row in testx:\n",
        "  row=np.float32(row)\n",
        "  v=cv.cvtColor(row,cv.COLOR_GRAY2RGB)\n",
        "  test_x.append(v)\n",
        "\n",
        "trainX=[]\n",
        "testX=[]\n",
        "\n",
        "for row in train_x:\n",
        "  v=np.resize(row,(224,224,3))\n",
        "  trainX.append(v)\n",
        "\n",
        "for row in test_x:\n",
        "  v=np.resize(row,(224,224,3))\n",
        "  testX.append(v)\n",
        "\n",
        "train_x=np.array(trainX)\n",
        "test_x=np.array(testX)\n",
        "\n",
        "print(train_x.shape)\n",
        "print(test_x.shape)\n"
      ],
      "execution_count": 4,
      "outputs": [
        {
          "output_type": "stream",
          "text": [
            "(608, 224, 224, 3)\n",
            "(160, 224, 224, 3)\n"
          ],
          "name": "stdout"
        }
      ]
    },
    {
      "cell_type": "code",
      "metadata": {
        "id": "UYlaUujFD5En",
        "colab_type": "code",
        "colab": {
          "base_uri": "https://localhost:8080/",
          "height": 70
        },
        "outputId": "6c201054-41dc-4485-dfa8-ada2ae1fe28b"
      },
      "source": [
        "from keras.applications.mobilenet import MobileNet\n",
        "from keras.models import Sequential\n",
        "from keras import optimizers\n",
        "from keras.layers import Dense, BatchNormalization, Flatten\n",
        "model=MobileNet(input_shape=(224,224,3), include_top=False, weights='imagenet', classes=16, pooling=(2,2))\n",
        "net= Sequential()\n",
        "net.add(model)\n",
        "for i in range(len(net.layers)-5):\n",
        "  net.layers[i].trainable=False\n",
        "\n",
        "net.add(Flatten())\n",
        "net.add(BatchNormalization())\n",
        "net.add(Dense(1536, activation='relu'))\n",
        "net.add(Dense(1152, activation='relu'))\n",
        "net.add(Dense(16, activation='softmax'))\n",
        "sgd=optimizers.Adam(lr=1e-6*4, beta_1=0.9, beta_2=0.999, amsgrad=False)\n",
        "net.compile(optimizer=sgd, loss='categorical_crossentropy', metrics=['accuracy'])\n",
        "net.fit(x=train_x, y=trainy, epochs=6, batch_size=16, validation_data=(test_x, testy))\n",
        "\n"
      ],
      "execution_count": 0,
      "outputs": [
        {
          "output_type": "stream",
          "text": [
            "Train on 608 samples, validate on 160 samples\n",
            "Epoch 1/6\n",
            " 80/608 [==>...........................] - ETA: 1:21 - loss: 3.1223 - acc: 0.0875"
          ],
          "name": "stdout"
        }
      ]
    }
  ]
}